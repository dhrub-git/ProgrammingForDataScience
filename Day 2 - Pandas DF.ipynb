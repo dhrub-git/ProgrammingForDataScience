{
 "cells": [
  {
   "cell_type": "code",
   "execution_count": 13,
   "id": "initial_id",
   "metadata": {
    "collapsed": true,
    "ExecuteTime": {
     "end_time": "2024-09-10T06:41:03.466294Z",
     "start_time": "2024-09-10T06:41:03.453910Z"
    }
   },
   "outputs": [
    {
     "name": "stdout",
     "output_type": "stream",
     "text": [
      "2.2.2\n"
     ]
    }
   ],
   "source": [
    "import pandas as pd\n",
    "import numpy as np\n",
    "pd.set_option('display.max_columns', 10)\n",
    "print(pd.__version__)"
   ]
  },
  {
   "cell_type": "code",
   "outputs": [
    {
     "name": "stdout",
     "output_type": "stream",
     "text": [
      "    state  year  taxRate\n",
      "0    Ohio  2000      1.5\n",
      "1    Ohio  2001      1.7\n",
      "2    Ohio  2002      3.6\n",
      "3  Nevada  2001      2.4\n",
      "4  Nevada  2002      2.9\n",
      "5  Nevada  2003      3.2\n"
     ]
    }
   ],
   "source": [
    "# Creating a DataFrame\n",
    "data = {'state':['Ohio','Ohio','Ohio','Nevada','Nevada','Nevada'],\n",
    "       'year':[2000,2001,2002,2001,2002,2003],\n",
    "       'taxRate':[1.5,1.7,3.6,2.4,2.9,3.2]}\n",
    "\n",
    "frame = pd.DataFrame(data)\n",
    "print(frame)"
   ],
   "metadata": {
    "collapsed": false,
    "ExecuteTime": {
     "end_time": "2024-09-10T06:25:27.397410Z",
     "start_time": "2024-09-10T06:25:27.368099Z"
    }
   },
   "id": "f86ae81992d8433c",
   "execution_count": 2
  },
  {
   "cell_type": "code",
   "outputs": [
    {
     "data": {
      "text/plain": "0      Ohio\n1      Ohio\n2      Ohio\n3    Nevada\n4    Nevada\n5    Nevada\nName: state, dtype: object"
     },
     "execution_count": 3,
     "metadata": {},
     "output_type": "execute_result"
    }
   ],
   "source": [
    "frame.state"
   ],
   "metadata": {
    "collapsed": false,
    "ExecuteTime": {
     "end_time": "2024-09-10T06:27:32.710597Z",
     "start_time": "2024-09-10T06:27:32.674608Z"
    }
   },
   "id": "86ab0f844b4f42a7",
   "execution_count": 3
  },
  {
   "cell_type": "code",
   "outputs": [],
   "source": [
    "#read from csv\n",
    "custDF = pd.read_csv(r'/Users/dhrubajyotibiswas/Documents/Training/ML Training/customer.csv', header=None,\n",
    "                    names=['CustId','FName','LName','Age','Job'])"
   ],
   "metadata": {
    "collapsed": false,
    "ExecuteTime": {
     "end_time": "2024-09-10T06:39:20.773908Z",
     "start_time": "2024-09-10T06:39:20.674934Z"
    }
   },
   "id": "83630fa3879307f9",
   "execution_count": 6
  },
  {
   "cell_type": "code",
   "outputs": [
    {
     "data": {
      "text/plain": "       CustId     FName     LName  Age                         Job\n0     4000001  Kristina     Chung   55                       Pilot\n1     4000002     Paige      Chen   74                     Teacher\n2     4000003    Sherri    Melton   34                 Firefighter\n3     4000004  Gretchen      Hill   66  Computer hardware engineer\n4     4000005     Karen   Puckett   74                      Lawyer\n...       ...       ...       ...  ...                         ...\n9994  4009995   Rebecca    Dennis   37                     Teacher\n9995  4009996     Tonya  McIntosh   56      Engineering technician\n9996  4009997       Ron    Grimes   36  Computer hardware engineer\n9997  4009998    Tracey   Bullock   60  Computer hardware engineer\n9998  4009999       Ray    Hewitt   64                   Carpenter\n\n[9999 rows x 5 columns]",
      "text/html": "<div>\n<style scoped>\n    .dataframe tbody tr th:only-of-type {\n        vertical-align: middle;\n    }\n\n    .dataframe tbody tr th {\n        vertical-align: top;\n    }\n\n    .dataframe thead th {\n        text-align: right;\n    }\n</style>\n<table border=\"1\" class=\"dataframe\">\n  <thead>\n    <tr style=\"text-align: right;\">\n      <th></th>\n      <th>CustId</th>\n      <th>FName</th>\n      <th>LName</th>\n      <th>Age</th>\n      <th>Job</th>\n    </tr>\n  </thead>\n  <tbody>\n    <tr>\n      <th>0</th>\n      <td>4000001</td>\n      <td>Kristina</td>\n      <td>Chung</td>\n      <td>55</td>\n      <td>Pilot</td>\n    </tr>\n    <tr>\n      <th>1</th>\n      <td>4000002</td>\n      <td>Paige</td>\n      <td>Chen</td>\n      <td>74</td>\n      <td>Teacher</td>\n    </tr>\n    <tr>\n      <th>2</th>\n      <td>4000003</td>\n      <td>Sherri</td>\n      <td>Melton</td>\n      <td>34</td>\n      <td>Firefighter</td>\n    </tr>\n    <tr>\n      <th>3</th>\n      <td>4000004</td>\n      <td>Gretchen</td>\n      <td>Hill</td>\n      <td>66</td>\n      <td>Computer hardware engineer</td>\n    </tr>\n    <tr>\n      <th>4</th>\n      <td>4000005</td>\n      <td>Karen</td>\n      <td>Puckett</td>\n      <td>74</td>\n      <td>Lawyer</td>\n    </tr>\n    <tr>\n      <th>...</th>\n      <td>...</td>\n      <td>...</td>\n      <td>...</td>\n      <td>...</td>\n      <td>...</td>\n    </tr>\n    <tr>\n      <th>9994</th>\n      <td>4009995</td>\n      <td>Rebecca</td>\n      <td>Dennis</td>\n      <td>37</td>\n      <td>Teacher</td>\n    </tr>\n    <tr>\n      <th>9995</th>\n      <td>4009996</td>\n      <td>Tonya</td>\n      <td>McIntosh</td>\n      <td>56</td>\n      <td>Engineering technician</td>\n    </tr>\n    <tr>\n      <th>9996</th>\n      <td>4009997</td>\n      <td>Ron</td>\n      <td>Grimes</td>\n      <td>36</td>\n      <td>Computer hardware engineer</td>\n    </tr>\n    <tr>\n      <th>9997</th>\n      <td>4009998</td>\n      <td>Tracey</td>\n      <td>Bullock</td>\n      <td>60</td>\n      <td>Computer hardware engineer</td>\n    </tr>\n    <tr>\n      <th>9998</th>\n      <td>4009999</td>\n      <td>Ray</td>\n      <td>Hewitt</td>\n      <td>64</td>\n      <td>Carpenter</td>\n    </tr>\n  </tbody>\n</table>\n<p>9999 rows × 5 columns</p>\n</div>"
     },
     "execution_count": 12,
     "metadata": {},
     "output_type": "execute_result"
    }
   ],
   "source": [
    "custDF"
   ],
   "metadata": {
    "collapsed": false,
    "ExecuteTime": {
     "end_time": "2024-09-10T06:40:51.698277Z",
     "start_time": "2024-09-10T06:40:51.677391Z"
    }
   },
   "id": "7363dd69cf258cce",
   "execution_count": 12
  },
  {
   "cell_type": "code",
   "outputs": [
    {
     "data": {
      "text/plain": "     Row ID        Order ID Order Date  Ship Date       Ship Mode  ...  \\\n0         1  CA-2016-152156 2016-11-08 2016-11-11    Second Class  ...   \n1         2  CA-2016-152156 2016-11-08 2016-11-11    Second Class  ...   \n2         3  CA-2016-138688 2016-06-12 2016-06-16    Second Class  ...   \n3         4  US-2015-108966 2015-10-11 2015-10-18  Standard Class  ...   \n4         5  US-2015-108966 2015-10-11 2015-10-18  Standard Class  ...   \n..      ...             ...        ...        ...             ...  ...   \n594     595  CA-2014-131450 2014-08-08 2014-08-15  Standard Class  ...   \n595     596  CA-2014-131450 2014-08-08 2014-08-15  Standard Class  ...   \n596     597  CA-2014-131450 2014-08-08 2014-08-15  Standard Class  ...   \n597     598  CA-2014-131450 2014-08-08 2014-08-15  Standard Class  ...   \n598     599  CA-2016-120180 2016-07-14 2016-07-16     First Class  ...   \n\n                                          Product Name      Sales Quantity  \\\n0                    Bush Somerset Collection Bookcase   261.9600        2   \n1    Hon Deluxe Fabric Upholstered Stacking Chairs,...   731.9400        3   \n2    Self-Adhesive Address Labels for Typewriters b...    14.6200        2   \n3        Bretford CR4500 Series Slim Rectangular Table   957.5775        5   \n4                       Eldon Fold 'N Roll Cart System    22.3680        2   \n..                                                 ...        ...      ...   \n594  Fellowes Superior 10 Outlet Split Surge Protector    76.1200        2   \n595                     Sharp AL-1530CS Digital Copier  1199.9760        3   \n596                             AT&T 1070 Corded Phone   445.9600        5   \n597              Dana Halogen Swing-Arm Architect Lamp   327.7600        8   \n598                  Acme Stainless Steel Office Snips    11.6320        2   \n\n    Discount    Profit  \n0       0.00   41.9136  \n1       0.00  219.5820  \n2       0.00    6.8714  \n3       0.45 -383.0310  \n4       0.20    2.5164  \n..       ...       ...  \n594     0.00   22.0748  \n595     0.20  434.9913  \n596     0.20   55.7450  \n597     0.00   91.7728  \n598     0.20    1.0178  \n\n[599 rows x 21 columns]",
      "text/html": "<div>\n<style scoped>\n    .dataframe tbody tr th:only-of-type {\n        vertical-align: middle;\n    }\n\n    .dataframe tbody tr th {\n        vertical-align: top;\n    }\n\n    .dataframe thead th {\n        text-align: right;\n    }\n</style>\n<table border=\"1\" class=\"dataframe\">\n  <thead>\n    <tr style=\"text-align: right;\">\n      <th></th>\n      <th>Row ID</th>\n      <th>Order ID</th>\n      <th>Order Date</th>\n      <th>Ship Date</th>\n      <th>Ship Mode</th>\n      <th>...</th>\n      <th>Product Name</th>\n      <th>Sales</th>\n      <th>Quantity</th>\n      <th>Discount</th>\n      <th>Profit</th>\n    </tr>\n  </thead>\n  <tbody>\n    <tr>\n      <th>0</th>\n      <td>1</td>\n      <td>CA-2016-152156</td>\n      <td>2016-11-08</td>\n      <td>2016-11-11</td>\n      <td>Second Class</td>\n      <td>...</td>\n      <td>Bush Somerset Collection Bookcase</td>\n      <td>261.9600</td>\n      <td>2</td>\n      <td>0.00</td>\n      <td>41.9136</td>\n    </tr>\n    <tr>\n      <th>1</th>\n      <td>2</td>\n      <td>CA-2016-152156</td>\n      <td>2016-11-08</td>\n      <td>2016-11-11</td>\n      <td>Second Class</td>\n      <td>...</td>\n      <td>Hon Deluxe Fabric Upholstered Stacking Chairs,...</td>\n      <td>731.9400</td>\n      <td>3</td>\n      <td>0.00</td>\n      <td>219.5820</td>\n    </tr>\n    <tr>\n      <th>2</th>\n      <td>3</td>\n      <td>CA-2016-138688</td>\n      <td>2016-06-12</td>\n      <td>2016-06-16</td>\n      <td>Second Class</td>\n      <td>...</td>\n      <td>Self-Adhesive Address Labels for Typewriters b...</td>\n      <td>14.6200</td>\n      <td>2</td>\n      <td>0.00</td>\n      <td>6.8714</td>\n    </tr>\n    <tr>\n      <th>3</th>\n      <td>4</td>\n      <td>US-2015-108966</td>\n      <td>2015-10-11</td>\n      <td>2015-10-18</td>\n      <td>Standard Class</td>\n      <td>...</td>\n      <td>Bretford CR4500 Series Slim Rectangular Table</td>\n      <td>957.5775</td>\n      <td>5</td>\n      <td>0.45</td>\n      <td>-383.0310</td>\n    </tr>\n    <tr>\n      <th>4</th>\n      <td>5</td>\n      <td>US-2015-108966</td>\n      <td>2015-10-11</td>\n      <td>2015-10-18</td>\n      <td>Standard Class</td>\n      <td>...</td>\n      <td>Eldon Fold 'N Roll Cart System</td>\n      <td>22.3680</td>\n      <td>2</td>\n      <td>0.20</td>\n      <td>2.5164</td>\n    </tr>\n    <tr>\n      <th>...</th>\n      <td>...</td>\n      <td>...</td>\n      <td>...</td>\n      <td>...</td>\n      <td>...</td>\n      <td>...</td>\n      <td>...</td>\n      <td>...</td>\n      <td>...</td>\n      <td>...</td>\n      <td>...</td>\n    </tr>\n    <tr>\n      <th>594</th>\n      <td>595</td>\n      <td>CA-2014-131450</td>\n      <td>2014-08-08</td>\n      <td>2014-08-15</td>\n      <td>Standard Class</td>\n      <td>...</td>\n      <td>Fellowes Superior 10 Outlet Split Surge Protector</td>\n      <td>76.1200</td>\n      <td>2</td>\n      <td>0.00</td>\n      <td>22.0748</td>\n    </tr>\n    <tr>\n      <th>595</th>\n      <td>596</td>\n      <td>CA-2014-131450</td>\n      <td>2014-08-08</td>\n      <td>2014-08-15</td>\n      <td>Standard Class</td>\n      <td>...</td>\n      <td>Sharp AL-1530CS Digital Copier</td>\n      <td>1199.9760</td>\n      <td>3</td>\n      <td>0.20</td>\n      <td>434.9913</td>\n    </tr>\n    <tr>\n      <th>596</th>\n      <td>597</td>\n      <td>CA-2014-131450</td>\n      <td>2014-08-08</td>\n      <td>2014-08-15</td>\n      <td>Standard Class</td>\n      <td>...</td>\n      <td>AT&amp;T 1070 Corded Phone</td>\n      <td>445.9600</td>\n      <td>5</td>\n      <td>0.20</td>\n      <td>55.7450</td>\n    </tr>\n    <tr>\n      <th>597</th>\n      <td>598</td>\n      <td>CA-2014-131450</td>\n      <td>2014-08-08</td>\n      <td>2014-08-15</td>\n      <td>Standard Class</td>\n      <td>...</td>\n      <td>Dana Halogen Swing-Arm Architect Lamp</td>\n      <td>327.7600</td>\n      <td>8</td>\n      <td>0.00</td>\n      <td>91.7728</td>\n    </tr>\n    <tr>\n      <th>598</th>\n      <td>599</td>\n      <td>CA-2016-120180</td>\n      <td>2016-07-14</td>\n      <td>2016-07-16</td>\n      <td>First Class</td>\n      <td>...</td>\n      <td>Acme Stainless Steel Office Snips</td>\n      <td>11.6320</td>\n      <td>2</td>\n      <td>0.20</td>\n      <td>1.0178</td>\n    </tr>\n  </tbody>\n</table>\n<p>599 rows × 21 columns</p>\n</div>"
     },
     "execution_count": 18,
     "metadata": {},
     "output_type": "execute_result"
    }
   ],
   "source": [
    "#read from excel\n",
    "custDFxls = pd.read_excel(r'/Users/dhrubajyotibiswas/Documents/Training/ML Training/Superstore.xls', sheet_name='Orders')\n",
    "custDFxls\n"
   ],
   "metadata": {
    "collapsed": false,
    "ExecuteTime": {
     "end_time": "2024-09-10T06:52:08.325505Z",
     "start_time": "2024-09-10T06:52:08.258503Z"
    }
   },
   "id": "813e52440caed425",
   "execution_count": 18
  },
  {
   "cell_type": "code",
   "source": [],
   "metadata": {
    "collapsed": false
   },
   "id": "e197592431d992fb",
   "outputs": [],
   "execution_count": null
  },
  {
   "cell_type": "code",
   "outputs": [],
   "source": [],
   "metadata": {
    "collapsed": false
   },
   "id": "fff0c652eefc6c95",
   "execution_count": null
  }
 ],
 "metadata": {
  "kernelspec": {
   "display_name": "Python 3",
   "language": "python",
   "name": "python3"
  },
  "language_info": {
   "codemirror_mode": {
    "name": "ipython",
    "version": 2
   },
   "file_extension": ".py",
   "mimetype": "text/x-python",
   "name": "python",
   "nbconvert_exporter": "python",
   "pygments_lexer": "ipython2",
   "version": "2.7.6"
  }
 },
 "nbformat": 4,
 "nbformat_minor": 5
}
