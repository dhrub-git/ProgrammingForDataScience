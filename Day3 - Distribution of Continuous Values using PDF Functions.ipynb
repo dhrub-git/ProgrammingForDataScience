{
 "cells": [
  {
   "metadata": {},
   "cell_type": "markdown",
   "source": [
    "# Distribution of Continuous Values using PDF Functions\n",
    "### Probability Density Function (pdf)\n",
    "- The probability density function (pdf) is the probability that the variable takes a value x."
   ],
   "id": "d61fdfe578c30080"
  },
  {
   "metadata": {
    "ExecuteTime": {
     "end_time": "2024-09-11T04:50:43.884874Z",
     "start_time": "2024-09-11T04:50:38.412707Z"
    }
   },
   "cell_type": "code",
   "source": [
    "import form\n",
    "import numpy\n",
    "import numpy as np\n",
    "import matplotlib.pyplot as plt\n",
    "import pandas as pd"
   ],
   "id": "f8953ccaabdf77d3",
   "outputs": [],
   "execution_count": 1
  },
  {
   "metadata": {
    "ExecuteTime": {
     "end_time": "2024-09-11T05:03:27.693092Z",
     "start_time": "2024-09-11T05:03:27.611916Z"
    }
   },
   "cell_type": "code",
   "source": [
    "# Generate a random normal distribution\n",
    "nList = [1,2,3,4,11,22,33,44,12,12,13,14]   # continuous value dataset\n",
    "dataset = pd.DataFrame(nList, columns=['x'])\n",
    "\n",
    "#import scipy.stats\n",
    "import scipy.stats as stats\n",
    "\n",
    "# Get the probability density function (pdf) of the Normal Distribution\n",
    "# The pdf is the probability that the variable takes a value x\n",
    "dataset['pdfCol'] = stats.norm(dataset.x.mean(), dataset.x.std()).pdf(dataset.x)\n",
    "\n",
    "# scatter plot\n",
    "plt.scatter(dataset.x, dataset.pdfCol)\n",
    "plt.show()"
   ],
   "id": "aeb5a2b8ffbdcf86",
   "outputs": [
    {
     "data": {
      "text/plain": [
       "<Figure size 640x480 with 1 Axes>"
      ],
      "image/png": "[encoded data removed]"
     },
     "metadata": {},
     "output_type": "display_data"
    }
   ],
   "execution_count": 12
  },
  {
   "metadata": {
    "ExecuteTime": {
     "end_time": "2024-09-11T05:04:11.319372Z",
     "start_time": "2024-09-11T05:04:11.274683Z"
    }
   },
   "cell_type": "code",
   "source": "dataset",
   "id": "8a8b47c67f0071a4",
   "outputs": [
    {
     "data": {
      "text/plain": [
       "     x    pdfCol\n",
       "0    1  0.018258\n",
       "1    2  0.019675\n",
       "2    3  0.021078\n",
       "3    4  0.022450\n",
       "4   11  0.029615\n",
       "5   22  0.025615\n",
       "6   33  0.010899\n",
       "7   44  0.002281\n",
       "8   12  0.030097\n",
       "9   12  0.030097\n",
       "10  13  0.030407\n",
       "11  14  0.030541"
      ],
      "text/html": [
       "<div>\n",
       "<style scoped>\n",
       "    .dataframe tbody tr th:only-of-type {\n",
       "        vertical-align: middle;\n",
       "    }\n",
       "\n",
       "    .dataframe tbody tr th {\n",
       "        vertical-align: top;\n",
       "    }\n",
       "\n",
       "    .dataframe thead th {\n",
       "        text-align: right;\n",
       "    }\n",
       "</style>\n",
       "<table border=\"1\" class=\"dataframe\">\n",
       "  <thead>\n",
       "    <tr style=\"text-align: right;\">\n",
       "      <th></th>\n",
       "      <th>x</th>\n",
       "      <th>pdfCol</th>\n",
       "    </tr>\n",
       "  </thead>\n",
       "  <tbody>\n",
       "    <tr>\n",
       "      <th>0</th>\n",
       "      <td>1</td>\n",
       "      <td>0.018258</td>\n",
       "    </tr>\n",
       "    <tr>\n",
       "      <th>1</th>\n",
       "      <td>2</td>\n",
       "      <td>0.019675</td>\n",
       "    </tr>\n",
       "    <tr>\n",
       "      <th>2</th>\n",
       "      <td>3</td>\n",
       "      <td>0.021078</td>\n",
       "    </tr>\n",
       "    <tr>\n",
       "      <th>3</th>\n",
       "      <td>4</td>\n",
       "      <td>0.022450</td>\n",
       "    </tr>\n",
       "    <tr>\n",
       "      <th>4</th>\n",
       "      <td>11</td>\n",
       "      <td>0.029615</td>\n",
       "    </tr>\n",
       "    <tr>\n",
       "      <th>5</th>\n",
       "      <td>22</td>\n",
       "      <td>0.025615</td>\n",
       "    </tr>\n",
       "    <tr>\n",
       "      <th>6</th>\n",
       "      <td>33</td>\n",
       "      <td>0.010899</td>\n",
       "    </tr>\n",
       "    <tr>\n",
       "      <th>7</th>\n",
       "      <td>44</td>\n",
       "      <td>0.002281</td>\n",
       "    </tr>\n",
       "    <tr>\n",
       "      <th>8</th>\n",
       "      <td>12</td>\n",
       "      <td>0.030097</td>\n",
       "    </tr>\n",
       "    <tr>\n",
       "      <th>9</th>\n",
       "      <td>12</td>\n",
       "      <td>0.030097</td>\n",
       "    </tr>\n",
       "    <tr>\n",
       "      <th>10</th>\n",
       "      <td>13</td>\n",
       "      <td>0.030407</td>\n",
       "    </tr>\n",
       "    <tr>\n",
       "      <th>11</th>\n",
       "      <td>14</td>\n",
       "      <td>0.030541</td>\n",
       "    </tr>\n",
       "  </tbody>\n",
       "</table>\n",
       "</div>"
      ]
     },
     "execution_count": 13,
     "metadata": {},
     "output_type": "execute_result"
    }
   ],
   "execution_count": 13
  },
  {
   "metadata": {
    "ExecuteTime": {
     "end_time": "2024-09-11T05:13:44.319710Z",
     "start_time": "2024-09-11T05:13:42.418353Z"
    }
   },
   "cell_type": "code",
   "source": [
    "from numpy.random import randn\n",
    "\n",
    "N = 1000000\n",
    "nList = []\n",
    "\n",
    "for i in range(N):\n",
    "    nList.append(randn())\n",
    "\n",
    "dataset = pd.DataFrame(nList, columns=['x'])\n",
    "\n",
    "import scipy.stats as stats\n",
    "\n",
    "dataset['pdfCol'] = stats.norm(dataset.x.mean(), dataset.x.std()).pdf(dataset.x)\n",
    "plt.scatter(dataset.x, dataset.pdfCol)"
   ],
   "id": "ee39b6a6440258b3",
   "outputs": [
    {
     "data": {
      "text/plain": [
       "<matplotlib.collections.PathCollection at 0x166b66960>"
      ]
     },
     "execution_count": 22,
     "metadata": {},
     "output_type": "execute_result"
    },
    {
     "data": {
      "text/plain": [
       "<Figure size 640x480 with 1 Axes>"
      ],
      "image/png": "[encoded data removed]"
     },
     "metadata": {},
     "output_type": "display_data"
    }
   ],
   "execution_count": 22
  }
 ],
 "metadata": {
  "kernelspec": {
   "display_name": "Python 3",
   "language": "python",
   "name": "python3"
  },
  "language_info": {
   "codemirror_mode": {
    "name": "ipython",
    "version": 2
   },
   "file_extension": ".py",
   "mimetype": "text/x-python",
   "name": "python",
   "nbconvert_exporter": "python",
   "pygments_lexer": "ipython2",
   "version": "2.7.6"
  }
 },
 "nbformat": 4,
 "nbformat_minor": 5
}
